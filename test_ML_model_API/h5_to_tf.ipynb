{
 "cells": [
  {
   "cell_type": "code",
   "execution_count": 5,
   "metadata": {},
   "outputs": [
    {
     "name": "stderr",
     "output_type": "stream",
     "text": [
      "WARNING:absl:Found untraced functions such as lstm_cell_5_layer_call_fn, lstm_cell_5_layer_call_and_return_conditional_losses while saving (showing 2 of 2). These functions will not be directly callable after loading.\n"
     ]
    },
    {
     "name": "stdout",
     "output_type": "stream",
     "text": [
      "INFO:tensorflow:Assets written to: LSTM\\assets\n"
     ]
    },
    {
     "name": "stderr",
     "output_type": "stream",
     "text": [
      "INFO:tensorflow:Assets written to: LSTM\\assets\n"
     ]
    }
   ],
   "source": [
    "### 1. Saving the model\n",
    "\n",
    "# The trained model needs to be exported.  This can be done from within your code\n",
    "# using the\n",
    "# [`model.save`](https://www.tensorflow.org/guide/keras/serialization_and_saving)\n",
    "# functionality from within python.  Note that the TensorFlow C API currently\n",
    "# (version 2.13) only supports the Keras \"v2\" format so you must specify `format='tf'`:\n",
    "import tensorflow as tf\n",
    "# construct model (e.g. model=tf.keras.Model(inputs, outputs))\n",
    "# or load one (e.g. model=tf.keras.models.load_model('/path/to/model'))\n",
    "model = tf.keras.models.load_model('LSTM.h5')\n",
    "model.save(\"LSTM\", save_format='tf')"
   ]
  }
 ],
 "metadata": {
  "kernelspec": {
   "display_name": "Python 3",
   "language": "python",
   "name": "python3"
  },
  "language_info": {
   "codemirror_mode": {
    "name": "ipython",
    "version": 3
   },
   "file_extension": ".py",
   "mimetype": "text/x-python",
   "name": "python",
   "nbconvert_exporter": "python",
   "pygments_lexer": "ipython3",
   "version": "3.11.3"
  }
 },
 "nbformat": 4,
 "nbformat_minor": 2
}
